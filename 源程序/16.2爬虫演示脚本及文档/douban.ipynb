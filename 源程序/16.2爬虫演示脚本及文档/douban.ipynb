{
 "cells": [
  {
   "cell_type": "markdown",
   "metadata": {},
   "source": [
    "代码2-1 豆瓣电影信息爬虫的实现"
   ]
  },
  {
   "cell_type": "code",
   "execution_count": 1,
   "metadata": {
    "collapsed": true
   },
   "outputs": [],
   "source": [
    "#导入爬虫所需要的库\n",
    "import requests\n",
    "from bs4 import BeautifulSoup as bs\n",
    "import pandas as pd"
   ]
  },
  {
   "cell_type": "code",
   "execution_count": 2,
   "metadata": {
    "collapsed": true
   },
   "outputs": [],
   "source": [
    "url = requests.get('https://movie.douban.com/nowplaying/shanghai/') #请求网页\n",
    "url.encoding=\"utf-8\"\n",
    "html_data=url.text\n",
    "soup = bs(html_data, 'html.parser')#解析网页\n",
    "nowplaying_movie = soup.find_all('div', id='nowplaying')\n",
    "nowplaying_movie_list = nowplaying_movie[0].find_all('li', class_='list-item')#定位元素位置"
   ]
  },
  {
   "cell_type": "code",
   "execution_count": 3,
   "metadata": {
    "collapsed": false
   },
   "outputs": [
    {
     "name": "stdout",
     "output_type": "stream",
     "text": [
      "                title       score     release     director                            actors\n",
      "0               我不是药神         9.0        2018          文牧野                    徐峥 / 王传君 / 周一围\n",
      "1                动物世界         7.3        2018           韩延              李易峰 / 迈克尔·道格拉斯 / 周冬雨\n",
      "2  新大头儿子和小头爸爸3：俄罗斯奇遇记         5.0        2018           何澄                     刘纯燕 / 董浩 / 鞠萍\n",
      "3              侏罗纪世界2         6.9        2018  胡安·安东尼奥·巴亚纳  克里斯·帕拉特 / 布莱丝·达拉斯·霍华德 / 贾斯蒂斯·史密斯\n",
      "4              超人总动员2         8.1        2018       布拉德·伯德        格雷格·T·尼尔森 / 霍利·亨特 / 莎拉·沃威尔\n"
     ]
    }
   ],
   "source": [
    "items=['title','score','release','director','actors']\n",
    "nowplaying_list_summary=pd.DataFrame()#创建数据框，用来记录爬取内容\n",
    "for item in items:\n",
    "    nowplaying_list_item='data-'+item\n",
    "    nowplaying_list_detail=[]#创建列表，记录每一部影片的具体信息\n",
    "    for movie in nowplaying_movie_list:\n",
    "            movie_item=movie[nowplaying_list_item].rjust(10)\n",
    "            nowplaying_list_detail.append(movie_item)\n",
    "    nowplaying_list_summary[item]=nowplaying_list_detail#将获取的内容合并入已有的数据框中\n",
    "pd.set_option('colheader_justify', 'right')\n",
    "pd.set_option('display.width', 200)\n",
    "print(nowplaying_list_summary.head())"
   ]
  },
  {
   "cell_type": "code",
   "execution_count": null,
   "metadata": {
    "collapsed": true
   },
   "outputs": [],
   "source": []
  }
 ],
 "metadata": {
  "kernelspec": {
   "display_name": "Python [Root]",
   "language": "python",
   "name": "Python [Root]"
  },
  "language_info": {
   "codemirror_mode": {
    "name": "ipython",
    "version": 2
   },
   "file_extension": ".py",
   "mimetype": "text/x-python",
   "name": "python",
   "nbconvert_exporter": "python",
   "pygments_lexer": "ipython2",
   "version": "2.7.12"
  }
 },
 "nbformat": 4,
 "nbformat_minor": 2
}
